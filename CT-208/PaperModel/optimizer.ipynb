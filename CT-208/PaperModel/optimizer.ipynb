{
 "cells": [
  {
   "cell_type": "markdown",
   "metadata": {},
   "source": [
    "#### CT-208 - Matemática Computacional\n",
    "\n",
    "\n",
    "##### 1. Covariance Matrix Adaptation Evolution Strategy (CMA-ES)\n",
    "\n",
    "- Modelo Evolutivo de 2ª Ordem;\n",
    "- Modelos Evolutivos geram populações através de uma distribuição normal multivariada em $\\mathbb{R}^n$, medem a performance de cada indivíduo, selecionam os p melhores para atualizar a média da distribuição para a próxima iteração.\n",
    "- CMA atualiza não só a **média**, como também a **matriz de covariância** que gera a população.\n",
    "\n",
    "##### Parâmetros:\n",
    "\n",
    "- $\\lambda$: Tamanho da população\n",
    "- $m$: Média da distribuição\n",
    "- $C$: Mátriz covariância 3x3\n",
    "- $p_\\sigma$: Search path (Exploration) \n",
    "- $p_c$: Evolution path (Exploitation)\n",
    "- $\\sigma$: Step-size\n",
    "\n",
    "##### Exemplo:\n",
    "<img src=\"CMA.png\" alt=\"fishy\" class=\"bg-primary mb-1\" width=\"500px\" style={align:center}>\n"
   ]
  },
  {
   "cell_type": "markdown",
   "metadata": {},
   "source": [
    "##### 2. Parsing SVG Files"
   ]
  },
  {
   "cell_type": "code",
   "execution_count": 1,
   "metadata": {},
   "outputs": [],
   "source": [
    "import os\n",
    "import re\n",
    "import numpy as np\n",
    "\n",
    "from PIL             import Image\n",
    "from parseSvgFiles   import parseSVG\n",
    "from convertSvg2Png  import convertSVG2PNG\n",
    "from convertPng2Svg  import convertPNG2SVG\n",
    "from placeComponent  import ComponentPlacing\n",
    "from utils           import binarray2jpg, png2bin, selectComponentToPlace\n"
   ]
  },
  {
   "cell_type": "markdown",
   "metadata": {},
   "source": [
    "Parsing each SVG file into separate components"
   ]
  },
  {
   "cell_type": "code",
   "execution_count": 2,
   "metadata": {},
   "outputs": [
    {
     "name": "stdout",
     "output_type": "stream",
     "text": [
      "Components from example separated with success!\n",
      "Components from harry-potter separated with success!\n",
      "Components from e190-e2 separated with success!\n"
     ]
    }
   ],
   "source": [
    "# Select figure in folder and parse SVG file into separate components \n",
    "for svg_name in ['example', 'harry-potter', 'e190-e2']:\n",
    "    parseSVG(svg_name)"
   ]
  },
  {
   "cell_type": "markdown",
   "metadata": {},
   "source": [
    "Convert each SVG component into a PNG equivalent"
   ]
  },
  {
   "cell_type": "code",
   "execution_count": 3,
   "metadata": {},
   "outputs": [
    {
     "name": "stdout",
     "output_type": "stream",
     "text": [
      "Components from example transformed with success!\n",
      "Components from harry-potter transformed with success!\n",
      "Components from e190-e2 transformed with success!\n"
     ]
    }
   ],
   "source": [
    "# Parse each SVG component into PNG equivalent \n",
    "for svg_name in ['example', 'harry-potter', 'e190-e2']:\n",
    "    convertSVG2PNG(svg_name)"
   ]
  },
  {
   "cell_type": "code",
   "execution_count": 4,
   "metadata": {},
   "outputs": [],
   "source": [
    "# Conversion parameters of each project\n",
    "params = dict()\n",
    "params['example'] = {'MM2PX': 1, 'PX2MM': 1}\n",
    "params['harry-potter'] = {'MM2PX': 3.7795276032851057, 'PX2MM': 0.2645833302370423}\n",
    "params['e190-e2'] = {'MM2PX': 1, 'PX2MM': 1}\n",
    "\n",
    "# Sheet size\n",
    "PAGE_SIZE = (210,297) "
   ]
  },
  {
   "cell_type": "code",
   "execution_count": 24,
   "metadata": {},
   "outputs": [
    {
     "name": "stdout",
     "output_type": "stream",
     "text": [
      "Conversion MM2PX: 1\n",
      "Conversion PX2MM: 1\n",
      "\n",
      "Paths:\n",
      "./example/components_png\n",
      "./example/test_results\n"
     ]
    }
   ],
   "source": [
    "# Define which project to optimize\n",
    "svg_name = 'example'\n",
    "#svg_name = 'harry-potter'\n",
    "#svg_name = 'e190-e2'\n",
    "\n",
    "# Conversion parameters\n",
    "MM2PX = params[svg_name]['MM2PX']\n",
    "PX2MM = params[svg_name]['PX2MM']\n",
    "\n",
    "# Components and file paths\n",
    "components_path = './' + svg_name + '/components_png'\n",
    "test_results_path = './' + svg_name + '/test_results'\n",
    "\n",
    "print(\"Conversion MM2PX: \" + str(MM2PX))\n",
    "print(\"Conversion PX2MM: \" + str(PX2MM))\n",
    "print(\"\\nPaths:\")\n",
    "print(components_path)\n",
    "print(test_results_path)"
   ]
  },
  {
   "cell_type": "code",
   "execution_count": 25,
   "metadata": {},
   "outputs": [],
   "source": [
    "# Finds the component png file in the directory\n",
    "files = os.listdir(components_path)\n",
    "pngs = list(filter(lambda name: re.match('.*\\.png', name), files))"
   ]
  },
  {
   "cell_type": "markdown",
   "metadata": {},
   "source": [
    "Examples of separated PNG components"
   ]
  },
  {
   "cell_type": "code",
   "execution_count": 26,
   "metadata": {},
   "outputs": [],
   "source": [
    "from PIL import Image\n",
    "with Image.open(components_path + \"/\" + np.random.choice(pngs)) as im:\n",
    "    im.show()"
   ]
  },
  {
   "cell_type": "markdown",
   "metadata": {},
   "source": [
    "Optimizer Parameters"
   ]
  },
  {
   "cell_type": "code",
   "execution_count": 27,
   "metadata": {},
   "outputs": [],
   "source": [
    "# Optimizer parameters\n",
    "iterations = 300\n",
    "sigma = 1.0\n",
    "population = 12"
   ]
  },
  {
   "cell_type": "code",
   "execution_count": 28,
   "metadata": {},
   "outputs": [
    {
     "name": "stdout",
     "output_type": "stream",
     "text": [
      "(6_w,12)-aCMA-ES (mu_w=3.7,w_1=40%) in dimension 3 (seed=549807, Wed Jun 29 00:25:17 2022)\n",
      "(6_w,12)-aCMA-ES (mu_w=3.7,w_1=40%) in dimension 3 (seed=526849, Wed Jun 29 00:25:17 2022)\n",
      "(6_w,12)-aCMA-ES (mu_w=3.7,w_1=40%) in dimension 3 (seed=550205, Wed Jun 29 00:25:17 2022)\n",
      "(6_w,12)-aCMA-ES (mu_w=3.7,w_1=40%) in dimension 3 (seed=542432, Wed Jun 29 00:25:17 2022)\n",
      "(6_w,12)-aCMA-ES (mu_w=3.7,w_1=40%) in dimension 3 (seed=529154, Wed Jun 29 00:25:17 2022)\n",
      "(6_w,12)-aCMA-ES (mu_w=3.7,w_1=40%) in dimension 3 (seed=551360, Wed Jun 29 00:25:17 2022)\n",
      "(6_w,12)-aCMA-ES (mu_w=3.7,w_1=40%) in dimension 3 (seed=564768, Wed Jun 29 00:25:17 2022)\n",
      "(6_w,12)-aCMA-ES (mu_w=3.7,w_1=40%) in dimension 3 (seed=577623, Wed Jun 29 00:25:17 2022)\n",
      "(6_w,12)-aCMA-ES (mu_w=3.7,w_1=40%) in dimension 3 (seed=519910, Wed Jun 29 00:25:17 2022)\n",
      "(6_w,12)-aCMA-ES (mu_w=3.7,w_1=40%) in dimension 3 (seed=527142, Wed Jun 29 00:25:17 2022)\n"
     ]
    }
   ],
   "source": [
    "# Creates a list of pages and append a page of (height, lenght) px\n",
    "pages = []\n",
    "pages.append(np.zeros(PAGE_SIZE, dtype=int))\n",
    "# Transforms each png component into a binary matrix\n",
    "# List of binary matrix of components and its name\n",
    "components = [[png2bin(components_path + '/' + png), png] for png in pngs] \n",
    "# Creates a list of objects of class ComponentPlacing\n",
    "CP_list = [ComponentPlacing(pages[0], component, sigma=sigma, population=population, num_iterations=iterations) for component in components]\n"
   ]
  },
  {
   "cell_type": "code",
   "execution_count": 29,
   "metadata": {},
   "outputs": [],
   "source": [
    "# Place components on page\n",
    "results = []\n",
    "page_idx = 0\n",
    "max_attempts = 100\n",
    "num_components = len(CP_list)\n"
   ]
  },
  {
   "cell_type": "code",
   "execution_count": 30,
   "metadata": {},
   "outputs": [
    {
     "name": "stdout",
     "output_type": "stream",
     "text": [
      "Current page: 1   Components remaining: 9...\n",
      "Current page: 1   Components remaining: 8...\n",
      "Current page: 1   Components remaining: 7...\n",
      "Current page: 1   Components remaining: 6...\n",
      "(6_w,12)-aCMA-ES (mu_w=3.7,w_1=40%) in dimension 3 (seed=551468, Wed Jun 29 00:25:21 2022)\n",
      "Current page: 1   Components remaining: 5...\n",
      "Current page: 1   Components remaining: 4...\n",
      "Current page: 1   Components remaining: 3...\n",
      "Current page: 1   Components remaining: 2...\n",
      "Current page: 1   Components remaining: 1...\n",
      "Current page: 1   Components remaining: 0...\n"
     ]
    }
   ],
   "source": [
    "while CP_list:\n",
    "    attempt = 0     # counter of times that try to fit a component in a page\n",
    "    # This loop tries to fit a component on current page    \n",
    "    while attempt < max_attempts:\n",
    "        # Selects one aleatory component\n",
    "        idx = selectComponentToPlace(CP_list)\n",
    "        CP = CP_list[idx]\n",
    "        # Finds the best position\n",
    "        CP.FindCandidatePosition()\n",
    "        # Checks if there is no intersection and place the compoponent if not\n",
    "        if CP.NoIntersection():\n",
    "            pages[page_idx] = CP.PlaceComponentInPage()\n",
    "            # removes the placed component from the list and store in results list\n",
    "            results.append(CP_list.pop(idx)) \n",
    "            num_components -= 1\n",
    "            print(('Current page: ' + str(page_idx+1)).ljust(18) + 'Components remaining: ' + str(num_components)+'...')\n",
    "            \n",
    "            if CP_list: \n",
    "                attempt = 0\n",
    "            else: \n",
    "                break\n",
    "        else: \n",
    "            attempt += 1\n",
    "            CP.resetParameters() # sorts a new initial point\n",
    "            \n",
    "    # Prepares a new page if necessary\n",
    "    if CP_list:\n",
    "        pages.append(np.zeros(PAGE_SIZE, dtype=int))\n",
    "        page_idx += 1\n",
    "        for CP in CP_list:\n",
    "            # sorts new initial point for the objects\n",
    "            CP.page = pages[page_idx]\n",
    "            CP.page_idx = page_idx\n",
    "            CP.resetParameters()\n"
   ]
  },
  {
   "cell_type": "code",
   "execution_count": 31,
   "metadata": {},
   "outputs": [],
   "source": [
    "# Remove all png files from the folder before storing the results\n",
    "files = os.listdir(test_results_path)\n",
    "for file in files:\n",
    "    os.remove(test_results_path + '/' + file)\n"
   ]
  },
  {
   "cell_type": "code",
   "execution_count": 32,
   "metadata": {},
   "outputs": [
    {
     "name": "stdout",
     "output_type": "stream",
     "text": [
      "Finished optimization.\n"
     ]
    }
   ],
   "source": [
    "\n",
    "# Saves pages\n",
    "for idx,page in enumerate(pages):\n",
    "    image = binarray2jpg(page).astype(np.uint8)\n",
    "    image = Image.fromarray(image)\n",
    "    image.save(test_results_path + '/page' + str(idx).zfill(2) + '.png')\n",
    "\n",
    "print('Finished optimization.')"
   ]
  },
  {
   "cell_type": "code",
   "execution_count": null,
   "metadata": {},
   "outputs": [],
   "source": [
    "# Parse each PNG file into SVG file \n",
    "for svg_name in ['example', 'harry-potter', 'e190-e2']:\n",
    "    convertPNG2SVG(svg_name)"
   ]
  }
 ],
 "metadata": {
  "kernelspec": {
   "display_name": "Python 3.8.10 64-bit",
   "language": "python",
   "name": "python3"
  },
  "language_info": {
   "codemirror_mode": {
    "name": "ipython",
    "version": 3
   },
   "file_extension": ".py",
   "mimetype": "text/x-python",
   "name": "python",
   "nbconvert_exporter": "python",
   "pygments_lexer": "ipython3",
   "version": "3.8.10"
  },
  "orig_nbformat": 4,
  "vscode": {
   "interpreter": {
    "hash": "916dbcbb3f70747c44a77c7bcd40155683ae19c65e1c03b4aa3499c5328201f1"
   }
  }
 },
 "nbformat": 4,
 "nbformat_minor": 2
}
